{
 "cells": [
  {
   "cell_type": "code",
   "execution_count": 6,
   "metadata": {},
   "outputs": [],
   "source": [
    "# Imports\n",
    "import requests"
   ]
  },
  {
   "cell_type": "code",
   "execution_count": 9,
   "metadata": {},
   "outputs": [],
   "source": [
    "# Define the API endpoint URL\n",
    "url = 'https://api.semanticscholar.org/graph/v1/paper/search'\n",
    "\n",
    "# Directly define the API key (Reminder: Securely handle API keys in production environments)\n",
    "api_key = 'zRjnP89HI697jM02sRqJjX9LgSItJSta3PDJUVN2'  # Replace with the actual API key"
   ]
  },
  {
   "cell_type": "code",
   "execution_count": 11,
   "metadata": {},
   "outputs": [
    {
     "name": "stdout",
     "output_type": "stream",
     "text": [
      "{'total': 1, 'offset': 0, 'data': [{'paperId': 'cbdd2e8eb9c88871bafe50ba2fae6d9d0221c8d5', 'title': 'DEEM: a tool for the dependability modeling and evaluation of multiple phased systems'}]}\n"
     ]
    }
   ],
   "source": [
    "#QUERY\n",
    "#Match entre nombre del articulo y el articulo\n",
    "\n",
    "# More specific query parameter\n",
    "query_params = {'query': 'DEEM: a Tool for the Dependability Modeling and Evaluation'}\n",
    "\n",
    "# Define headers with API key\n",
    "headers = {'x-api-key': api_key}\n",
    "\n",
    "# Send the API request\n",
    "response = requests.get(url, params=query_params, headers=headers)\n",
    "\n",
    "# Check response status\n",
    "if response.status_code == 200:\n",
    "   response_data = response.json()\n",
    "   # Process and print the response data as needed\n",
    "   print(response_data)\n",
    "else:\n",
    "   print(f\"Request failed with status code {response.status_code}: {response.text}\")"
   ]
  },
  {
   "cell_type": "code",
   "execution_count": 3,
   "metadata": {},
   "outputs": [
    {
     "name": "stdout",
     "output_type": "stream",
     "text": [
      "DOI: 10.1109/icdsn.2000.857541\n",
      "Título: DEEM: a tool for the dependability modeling and evaluation of multiple phased systems\n",
      "Editorial: IEEE Comput. Soc\n"
     ]
    }
   ],
   "source": [
    "from habanero import Crossref\n",
    "\n",
    "# Inicializa el objeto Crossref\n",
    "cr = Crossref()\n",
    "\n",
    "# Título del artículo que estás buscando\n",
    "query = \"DEEM: a Tool for the Dependability Modeling and Evaluation\"\n",
    "\n",
    "# Realiza la búsqueda basada en el título\n",
    "results = cr.works(query=query)\n",
    "\n",
    "# Itera sobre los resultados para encontrar el DOI correspondiente al título\n",
    "for item in results['message']['items']:\n",
    "    # Comprueba si el título coincide exactamente\n",
    "    if query.lower() in item['title'][0].lower():\n",
    "        # Imprime el DOI y otros metadatos si es necesario\n",
    "        print(\"DOI:\", item['DOI'])\n",
    "        print(\"Título:\", item['title'][0])\n",
    "        print(\"Editorial:\", item['publisher'])\n",
    "        # Puedes imprimir más información según necesites\n",
    "        break  # Si solo necesitas el primer resultado, puedes detener la iteración aquí\n"
   ]
  },
  {
   "cell_type": "code",
   "execution_count": 7,
   "metadata": {},
   "outputs": [
    {
     "name": "stdout",
     "output_type": "stream",
     "text": [
      "Artículo descargado correctamente.\n"
     ]
    }
   ],
   "source": [
    "def descargar_articulo(doi):\n",
    "  \"\"\"\n",
    "  Descarga un artículo científico en formato PDF a partir del DOI.\n",
    "\n",
    "  Args:\n",
    "      doi (str): El DOI del artículo a descargar.\n",
    "\n",
    "  Returns:\n",
    "      bytes: El contenido del artículo en formato PDF.\n",
    "  \"\"\"\n",
    "\n",
    "  # URL de la API de Semantic Scholar\n",
    "  url = f\"https://api.semanticscholar.org/v1/paper/{doi}?format=pdf\"\n",
    "\n",
    "  # Enviar la solicitud GET\n",
    "  try:\n",
    "    response = requests.get(url)\n",
    "    response.raise_for_status()  # Raise an exception for non-200 status codes\n",
    "  except requests.exceptions.RequestException as e:\n",
    "    print(f\"Error: {e}\")\n",
    "    return None\n",
    "\n",
    "  # Devolver el contenido del artículo en formato PDF\n",
    "  return response.content\n",
    "\n",
    "# Ejemplo de uso\n",
    "doi = \"10.1109/icdsn.2000.857541\"\n",
    "\n",
    "articulo_pdf = descargar_articulo(doi)\n",
    "\n",
    "if articulo_pdf:\n",
    "  # Guardar el artículo en un archivo\n",
    "  with open(\"articulo.pdf\", \"wb\") as f:\n",
    "    f.write(articulo_pdf)\n",
    "\n",
    "  print(\"Artículo descargado correctamente.\")\n",
    "else:\n",
    "  print(f\"No se pudo descargar el artículo con el DOI '{doi}'.\")"
   ]
  },
  {
   "cell_type": "code",
   "execution_count": 10,
   "metadata": {},
   "outputs": [
    {
     "name": "stdout",
     "output_type": "stream",
     "text": [
      "{'total': 1, 'offset': 0, 'data': [{'paperId': 'cbdd2e8eb9c88871bafe50ba2fae6d9d0221c8d5', 'title': 'DEEM: a tool for the dependability modeling and evaluation of multiple phased systems'}]}\n"
     ]
    }
   ],
   "source": []
  }
 ],
 "metadata": {
  "kernelspec": {
   "display_name": "Python 3",
   "language": "python",
   "name": "python3"
  },
  "language_info": {
   "codemirror_mode": {
    "name": "ipython",
    "version": 3
   },
   "file_extension": ".py",
   "mimetype": "text/x-python",
   "name": "python",
   "nbconvert_exporter": "python",
   "pygments_lexer": "ipython3",
   "version": "3.11.5"
  },
  "orig_nbformat": 4
 },
 "nbformat": 4,
 "nbformat_minor": 2
}
